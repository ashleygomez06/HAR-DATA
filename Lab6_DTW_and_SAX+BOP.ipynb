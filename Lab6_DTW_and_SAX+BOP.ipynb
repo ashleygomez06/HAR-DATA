{
  "nbformat": 4,
  "nbformat_minor": 0,
  "metadata": {
    "colab": {
      "provenance": []
    },
    "kernelspec": {
      "name": "python3",
      "display_name": "Python 3"
    },
    "language_info": {
      "name": "python"
    }
  },
  "cells": [
    {
      "cell_type": "markdown",
      "source": [
        "For dynamic time warping use LB Q"
      ],
      "metadata": {
        "id": "BH2UqBs7xj7y"
      }
    },
    {
      "cell_type": "code",
      "source": [
        "import numpy as np\n",
        "import torch\n",
        "import pandas as pd\n",
        "import matplotlib.pyplot as plt\n",
        "import os"
      ],
      "metadata": {
        "id": "xR7cTDmWm-I-"
      },
      "execution_count": 36,
      "outputs": []
    },
    {
      "cell_type": "markdown",
      "source": [
        "# Constructing PAA"
      ],
      "metadata": {
        "id": "ULwtXQW6QBPG"
      }
    },
    {
      "cell_type": "code",
      "source": [
        "import numpy as np\n",
        "import matplotlib.pyplot as plt\n",
        "import math"
      ],
      "metadata": {
        "id": "zTquNFI65iqz"
      },
      "execution_count": 37,
      "outputs": []
    },
    {
      "cell_type": "markdown",
      "source": [
        "## Normalization"
      ],
      "metadata": {
        "id": "ARa6Cm1G7sf3"
      }
    },
    {
      "cell_type": "code",
      "source": [
        "def Z_normalize(data):\n",
        "    data = np.array(data)\n",
        "    normalized_data = (data - np.mean(data)) / np.std(data)\n",
        "    return normalized_data"
      ],
      "metadata": {
        "id": "yBEpZstU7rwk"
      },
      "execution_count": 38,
      "outputs": []
    },
    {
      "cell_type": "markdown",
      "source": [
        "## PAA"
      ],
      "metadata": {
        "id": "pM5E71jD7Toe"
      }
    },
    {
      "cell_type": "code",
      "source": [
        "def PAA(feature_size,segment_size,feature):\n",
        "  segment=feature_size//segment_size\n",
        "  PAA=[]\n",
        "  for i in range(segment_size):\n",
        "    range_sum=0\n",
        "    start=(segment*i)+1\n",
        "    end=segment*(i+1)\n",
        "    for j in range(start,end):\n",
        "      range_sum+=feature[j-1]\n",
        "    PAA.append(range_sum/segment_size)\n",
        "  return PAA"
      ],
      "metadata": {
        "id": "8dV99jIv7TDS"
      },
      "execution_count": 39,
      "outputs": []
    },
    {
      "cell_type": "markdown",
      "source": [
        "### PAA Lookup Table"
      ],
      "metadata": {
        "id": "Cw7dHFnY_Cst"
      }
    },
    {
      "cell_type": "code",
      "source": [
        "lookup_table = {3: [-.43, .43],\n",
        "                4: [-.67, 0, .67],\n",
        "                5: [-.84, -.25, .25, .84],\n",
        "                6: [-.97, -.43, 0, .43, .97],\n",
        "                7: [-1.07, -.57, -1.18, .18, .57, 1.07],\n",
        "                8: [-1.15, -.67, -.32, 0, .32, .67, 1.15],\n",
        "                9: [-1.22, -.76, -.43, -.14, .14, .43, .76, 1.22],\n",
        "                10: [-1.28, -.84, -.52, -.25, 0, .25, .52, .84, 1.28]}"
      ],
      "metadata": {
        "id": "Tajc-kFr_BK2"
      },
      "execution_count": 40,
      "outputs": []
    },
    {
      "cell_type": "markdown",
      "source": [
        "#SAX"
      ],
      "metadata": {
        "id": "LqektTPU_ZBr"
      }
    },
    {
      "cell_type": "code",
      "source": [
        "def SAX(data, lookup_table, a=4):\n",
        "  letters=list(string.ascii_lowercase)\n",
        "\n",
        "  SAX_transform=[]\n",
        "  for x in data:\n",
        "    index=bisect.bisect(lookup_table[a],x) #Finds the right bin index\n",
        "    SAX_transform.append(letters[index])\n",
        "\n",
        "  return SAX_transform"
      ],
      "metadata": {
        "id": "p5dJcmEl_YAy"
      },
      "execution_count": 41,
      "outputs": []
    },
    {
      "cell_type": "code",
      "source": [
        "def sax_bop_histogram(sample,segment_size,lookup_table,a=4,window_size=2):\n",
        "  symbols=[]\n",
        "  for feature in sample:\n",
        "    feature=Z_normalize(feature)\n",
        "    paa=PAA(len(feature),segment_size,feature)\n",
        "    sax=SAX(paa,lookup_table,a)\n",
        "    symbols.extend(sax)\n",
        "  histogram=count_subsequences(symbols,window_size)\n",
        "  return histogram"
      ],
      "metadata": {
        "id": "lSfR0GEf_6y_"
      },
      "execution_count": 42,
      "outputs": []
    },
    {
      "cell_type": "code",
      "source": [
        "#@title LB_Keogh\n",
        "\n",
        "def bounds(Q_1d, r):\n",
        "    Ubound = []\n",
        "    Lbound = []\n",
        "    length = len(Q_1d)\n",
        "    for i in range(length):\n",
        "        start = max(0, i - r)\n",
        "        end = min(length - 1, i + r)\n",
        "\n",
        "        window = Q_1d[start:end + 1]\n",
        "        Ubound.append(max(window))\n",
        "        Lbound.append(min(window))\n",
        "\n",
        "    return Ubound, Lbound\n",
        "\n"
      ],
      "metadata": {
        "id": "GxRFn9iAYB41"
      },
      "execution_count": 43,
      "outputs": []
    },
    {
      "cell_type": "code",
      "source": [
        "import string\n",
        "import random\n",
        "import bisect"
      ],
      "metadata": {
        "id": "ACfuGryM5Idn"
      },
      "execution_count": 44,
      "outputs": []
    },
    {
      "cell_type": "code",
      "source": [
        "def generate_C(length, c_range=(0, 10)):\n",
        "    c = [round(random.uniform(c_range[0], c_range[1]), 2) for _ in range(length)]\n",
        "\n",
        "    return c"
      ],
      "metadata": {
        "id": "iSJcbXomayDa"
      },
      "execution_count": 45,
      "outputs": []
    },
    {
      "cell_type": "code",
      "source": [
        "from collections import Counter\n",
        "\n",
        "def count_subsequences(C_hat, window_size=2):\n",
        "    subsequences = [\n",
        "        tuple(C_hat[i:i + window_size])\n",
        "        for i in range(len(C_hat) - window_size + 1)\n",
        "    ]\n",
        "    return Counter(subsequences)\n"
      ],
      "metadata": {
        "id": "7GkivyqNqZyy"
      },
      "execution_count": 46,
      "outputs": []
    },
    {
      "cell_type": "code",
      "source": [
        "from sklearn.metrics.pairwise import euclidean_distances"
      ],
      "metadata": {
        "id": "wDu3bBIC6HsQ"
      },
      "execution_count": 47,
      "outputs": []
    },
    {
      "cell_type": "code",
      "source": [
        "from pickle import FALSE\n",
        "#@title Helper funcitons\n",
        "\n",
        "def vectorize_bop(histogram, vocabulary):\n",
        "    return np.array([histogram.get(sym, 0) for sym in vocabulary], dtype=np.float32)\n",
        "\n",
        "def build_bop_dataset(X, segment_size, PAA_lookup_table, window_size=2, a=4):\n",
        "    histograms = [sax_bop_histogram(sample, segment_size, PAA_lookup_table, a=a,window_size=window_size) for sample in X]\n",
        "\n",
        "    # Build global vocabulary\n",
        "    all_keys = set()\n",
        "    for h in histograms:\n",
        "        all_keys.update(h.keys())\n",
        "    vocabulary = sorted(all_keys)\n",
        "\n",
        "    bop_vectors = np.array([vectorize_bop(h, vocabulary) for h in histograms])\n",
        "    return bop_vectors, vocabulary\n",
        "\n",
        "def classify_bop_1nn(X_train_vecs, y_train, X_test_vecs):\n",
        "    predictions = []\n",
        "    nn_indices = []\n",
        "\n",
        "    distances = euclidean_distances(X_test_vecs, X_train_vecs)\n",
        "    for row in distances:\n",
        "        idx = np.argmin(row)\n",
        "        predictions.append(y_train[idx])\n",
        "        nn_indices.append(idx)\n",
        "\n",
        "    return predictions, nn_indices\n",
        "\n",
        "def sax_bop_train(X_train, y_train, X_test, y_test, lookup_table, segment_size=10, a=4, window_size=2,parameters=False):\n",
        "\n",
        "    if parameters==False:\n",
        "      print(\"Generating BOP histograms...\")\n",
        "    X_train_histograms = [sax_bop_histogram(sample, segment_size, lookup_table, window_size=window_size, a=a) for sample in X_train]\n",
        "\n",
        "    # Build vocabulary from training only\n",
        "    vocabulary = sorted(set().union(*[h.keys() for h in X_train_histograms]))\n",
        "\n",
        "    # Vectorize train and test using same vocab\n",
        "    X_train_vecs = np.array([vectorize_bop(h, vocabulary) for h in X_train_histograms])\n",
        "    X_test_histograms = [sax_bop_histogram(sample, segment_size, lookup_table, window_size=window_size, a=a) for sample in X_test]\n",
        "    X_test_vecs = np.array([vectorize_bop(h, vocabulary) for h in X_test_histograms])\n",
        "\n",
        "\n",
        "    if parameters==False:\n",
        "      print(\"Running 1NN classification...\")\n",
        "    y_pred, nn_indices = classify_bop_1nn(X_train_vecs, y_train, X_test_vecs)\n",
        "\n",
        "    accuracy = sum(y_pred[i] == y_test[i] for i in range(len(y_test))) / len(y_test)\n",
        "    if parameters==False:\n",
        "      print(f\"BOP + 1NN Accuracy: {accuracy:.2%}\")\n",
        "\n",
        "    return y_pred, nn_indices, X_train_vecs, X_test_vecs, vocabulary"
      ],
      "metadata": {
        "id": "EhlRslvFKO0Y"
      },
      "execution_count": 48,
      "outputs": []
    },
    {
      "cell_type": "code",
      "source": [
        "# print(\"Available a values in lookup_table:\", lookup_table.keys())\n"
      ],
      "metadata": {
        "id": "IG3NO04_GZS6"
      },
      "execution_count": 49,
      "outputs": []
    },
    {
      "source": [
        "from inspect import Parameter\n",
        "import string\n",
        "import random\n",
        "import bisect\n",
        "\n",
        "test_a =[3,4,5,6,7,8,9,10]\n",
        "test_segment=[10,15,20,25,30,35,40,45,50]\n",
        "test_window=[2,3,4]\n",
        "\n",
        "from sklearn.metrics import accuracy_score\n",
        "\n",
        "def get_best_combination(X_train, y_train, X_test, y_test):\n",
        "  test_a =[3,4,5,6,7,8,9,10]\n",
        "  test_segment=[5,10,15,20,25,30,35,40,45,50]\n",
        "  test_window=[2,3,4]\n",
        "\n",
        "  best_score = 0\n",
        "  best_params = {}\n",
        "  Parameters=True\n",
        "\n",
        "  for a in test_a:\n",
        "    for segment in test_segment:\n",
        "      for window in test_window:\n",
        "        #print(f\"Trying a={a}, segment={segment}, window={window}\")\n",
        "        # The 'a' parameter is for breakpoints, not window size\n",
        "        y_pred, nn_indices, X_train_bop, X_test_bop, vocab = sax_bop_train(\n",
        "          X_train, y_train, X_test, y_test,\n",
        "          lookup_table=lookup_table,\n",
        "          segment_size=segment, a=a, window_size=window ,parameters=Parameters # Pass 'a' to sax_bop_train\n",
        "        )\n",
        "\n",
        "        # Calculate accuracy\n",
        "        acc = accuracy_score(y_test, y_pred)\n",
        "        #print(f\"Accuracy: {acc:.4f}\")\n",
        "\n",
        "        # Update best if better\n",
        "        if acc > best_score:\n",
        "          best_score = acc\n",
        "          best_params = {'a': a, 'segment': segment, 'window': window}\n",
        "\n",
        "    return best_score, best_params"
      ],
      "cell_type": "code",
      "metadata": {
        "id": "Ktv4A4I0GFMx"
      },
      "execution_count": 50,
      "outputs": []
    },
    {
      "cell_type": "markdown",
      "source": [
        "#Data we are gonna use\n"
      ],
      "metadata": {
        "id": "M_KLCJ6W171q"
      }
    },
    {
      "cell_type": "code",
      "source": [
        "!git clone https://github.com/ashleygomez06/HAR-DATA.git"
      ],
      "metadata": {
        "colab": {
          "base_uri": "https://localhost:8080/"
        },
        "id": "cMTzUdp_P-3V",
        "outputId": "789fb99d-8a14-41ae-839d-cbb086b1bb08"
      },
      "execution_count": 51,
      "outputs": [
        {
          "output_type": "stream",
          "name": "stdout",
          "text": [
            "fatal: destination path 'HAR-DATA' already exists and is not an empty directory.\n"
          ]
        }
      ]
    },
    {
      "cell_type": "code",
      "source": [
        "X=torch.load('/content/HAR-DATA/X_norm.pt')\n",
        "y=torch.load('/content/HAR-DATA/y_lbls.pt',weights_only=False)"
      ],
      "metadata": {
        "id": "RSh693jv17hN"
      },
      "execution_count": 52,
      "outputs": []
    },
    {
      "cell_type": "code",
      "source": [
        "from sklearn.model_selection import train_test_split\n",
        "X_train, X_test, y_train, y_test = train_test_split(X, y, test_size=0.2, random_state=42)"
      ],
      "metadata": {
        "id": "849K2TtH2qzK"
      },
      "execution_count": 53,
      "outputs": []
    },
    {
      "cell_type": "code",
      "source": [
        "#print(X_train.shape)\n",
        "#print(X_test.shape)\n",
        "#print(y_train.shape)\n",
        "#print(y_test.shape)"
      ],
      "metadata": {
        "id": "SEvBq1Ut2uI_"
      },
      "execution_count": 54,
      "outputs": []
    },
    {
      "cell_type": "code",
      "source": [
        "best_score, best_params = get_best_combination(X_train, y_train, X_test, y_test)"
      ],
      "metadata": {
        "id": "IH3Wo6YcF0EQ"
      },
      "execution_count": 55,
      "outputs": []
    },
    {
      "cell_type": "code",
      "source": [
        "#print(f\"Best Accuracy: {best_score:.4f}\")\n",
        "#print(f\"Best Parameters: a={best_params['a']}, segment={best_params['segment']}, window={best_params['window']}\")"
      ],
      "metadata": {
        "id": "AyNtY8zMKCIm"
      },
      "execution_count": 56,
      "outputs": []
    },
    {
      "cell_type": "code",
      "source": [
        "y_pred, nn_indices, X_train_bop, X_test_bop, vocab =sax_bop_train(\n",
        "    X_train, y_train, X_test, y_test,\n",
        "    lookup_table=lookup_table,\n",
        "    segment_size=best_params['segment'], a=best_params['a'], window_size=best_params['window']\n",
        ")"
      ],
      "metadata": {
        "colab": {
          "base_uri": "https://localhost:8080/"
        },
        "id": "Vd83kMJsMIsI",
        "outputId": "d7025a15-f732-472f-952d-ec75661a73ba"
      },
      "execution_count": 57,
      "outputs": [
        {
          "output_type": "stream",
          "name": "stdout",
          "text": [
            "Generating BOP histograms...\n",
            "Running 1NN classification...\n",
            "BOP + 1NN Accuracy: 100.00%\n"
          ]
        }
      ]
    },
    {
      "cell_type": "code",
      "source": [
        "def plot_bounds_and_instance(up_bnd, low_bnd, x_trn, x_tst):\n",
        "  plt.figure(figsize=(10, 6))\n",
        "  plt.plot(up_bnd, color='red', label='Upper Bound')\n",
        "  plt.plot(low_bnd, color='green', label='Lower Bound')\n",
        "  plt.plot(x_tst, color='blue', label='C:Test Instance')\n",
        "  plt.plot(x_trn, color='orange', label='Q:Train Instance')\n",
        "  plt.xlabel('Time')\n",
        "  plt.ylabel('Acc. m/s^2')\n",
        "  plt.title('Upper and Lower Bounds and Test Instance')\n",
        "  plt.legend()\n",
        "  plt.grid()\n",
        "  plt.show\n"
      ],
      "metadata": {
        "id": "5G42cY1NOcJu"
      },
      "execution_count": 58,
      "outputs": []
    },
    {
      "cell_type": "code",
      "source": [
        "# Select the first test instance and its nearest neighbor from the training set\n",
        "test_instance_index = 0\n",
        "train_neighbor_index = nn_indices[test_instance_index]\n",
        "\n",
        "# Get the raw time series data for the selected instances\n",
        "x_tst = X_test[test_instance_index,:,:200]\n",
        "x_trn = X_train[train_neighbor_index,:,:200]\n",
        "\n",
        "# Define the radius 'r' for the bounds calculation\n",
        "# You might want to choose 'r' based on the context of LB_Keogh\n",
        "# For demonstration, let's use r=5 (adjust as needed)\n",
        "x_trn_1d = x_trn[2]\n",
        "x_tst_1d = x_tst[2]\n",
        "r_value = 5\n",
        "\n",
        "# Calculate the upper and lower bounds for the training instance (Q)\n",
        "# Use the raw time series, not the BOP vectors\n",
        "upper_bound, lower_bound = bounds(x_trn_1d, r_value)\n",
        "\n",
        "# Now you can call the plotting function if needed\n",
        "plot_bounds_and_instance(upper_bound, lower_bound, x_trn_1d, x_tst_1d)\n",
        "\n",
        "# You might also want to check the shapes to ensure they are 1D arrays\n",
        "# print(f\"Shape of x_trn: {x_trn.shape}\")\n",
        "# print(f\"Shape of x_tst: {x_tst.shape}\")\n",
        "# print(f\"Shape of upper_bound: {upper_bound.shape}\")\n",
        "# print(f\"Shape of lower_bound: {lower_bound.shape}\")"
      ],
      "metadata": {
        "colab": {
          "base_uri": "https://localhost:8080/",
          "height": 564
        },
        "id": "D-kZMDdVOD7U",
        "outputId": "938489c8-6df4-4410-bab7-6aca19521b89"
      },
      "execution_count": 59,
      "outputs": [
        {
          "output_type": "display_data",
          "data": {
            "text/plain": [
              "<Figure size 1000x600 with 1 Axes>"
            ],
            "image/png": "[encoded data removed]"
          },
          "metadata": {}
        }
      ]
    },
    {
      "cell_type": "code",
      "source": [
        "#Visulize sax histograms\n"
      ],
      "metadata": {
        "id": "1KONRzsJSb0P"
      },
      "execution_count": 60,
      "outputs": []
    },
    {
      "cell_type": "code",
      "source": [
        "import matplotlib.pyplot as plt\n",
        "from sklearn.manifold import TSNE"
      ],
      "metadata": {
        "id": "naYisSOV6gfO"
      },
      "execution_count": 61,
      "outputs": []
    },
    {
      "cell_type": "code",
      "source": [
        "'''\n",
        "#@title Plot 1\n",
        "X_all = np.concatenate((X_train, X_test), axis=0)\n",
        "y_all = np.concatenate((y_train, y_test), axis=0)\n",
        "\n",
        "X_flat = X_all.reshape(X_all.shape[0], -1)\n",
        "\n",
        "tsne = TSNE(n_components=2, perplexity=5, random_state=42)\n",
        "X_tsne = tsne.fit_transform(X_flat)\n",
        "\n",
        "n_train = len(X_train)\n",
        "X_train_2D = X_tsne[:n_train]\n",
        "X_test_2D = X_tsne[n_train:]\n",
        "\n",
        "plt.figure(figsize=(10, 7))\n",
        "colors = ['skyblue', 'salmon']\n",
        "labels = ['Class 0', 'Class 1']\n",
        "\n",
        "for class_val in [0, 1]:\n",
        "    idx = y_train == class_val\n",
        "    plt.scatter(X_train_2D[idx, 0], X_train_2D[idx, 1],\n",
        "                color=colors[class_val], label=f'Train Class {class_val}',\n",
        "                edgecolor='k', marker='o', s=80)\n",
        "\n",
        "for class_val in [0, 1]:\n",
        "    idx = y_test == class_val\n",
        "    plt.scatter(X_test_2D[idx, 0], X_test_2D[idx, 1],\n",
        "                color=colors[class_val], label=f'Test Class {class_val}',\n",
        "                edgecolor='black', marker='^', s=100)\n",
        "\n",
        "plt.title(\"Plot 1: Class Distribution (t-SNE on Raw Time Series)\")\n",
        "plt.xlabel(\"Component 1\")\n",
        "plt.ylabel(\"Component 2\")\n",
        "plt.legend()\n",
        "plt.grid(True)\n",
        "plt.tight_layout()\n",
        "plt.show()\n",
        "'''"
      ],
      "metadata": {
        "colab": {
          "base_uri": "https://localhost:8080/",
          "height": 109
        },
        "id": "oO0uCo5K6Zlt",
        "outputId": "2aeacfea-766e-4676-ee76-ec6b6df2eec7"
      },
      "execution_count": 62,
      "outputs": [
        {
          "output_type": "execute_result",
          "data": {
            "text/plain": [
              "'\\n#@title Plot 1\\nX_all = np.concatenate((X_train, X_test), axis=0)\\ny_all = np.concatenate((y_train, y_test), axis=0)\\n\\nX_flat = X_all.reshape(X_all.shape[0], -1)\\n\\ntsne = TSNE(n_components=2, perplexity=5, random_state=42)\\nX_tsne = tsne.fit_transform(X_flat)\\n\\nn_train = len(X_train)\\nX_train_2D = X_tsne[:n_train]\\nX_test_2D = X_tsne[n_train:]\\n\\nplt.figure(figsize=(10, 7))\\ncolors = [\\'skyblue\\', \\'salmon\\']\\nlabels = [\\'Class 0\\', \\'Class 1\\']\\n\\nfor class_val in [0, 1]:\\n    idx = y_train == class_val\\n    plt.scatter(X_train_2D[idx, 0], X_train_2D[idx, 1],\\n                color=colors[class_val], label=f\\'Train Class {class_val}\\',\\n                edgecolor=\\'k\\', marker=\\'o\\', s=80)\\n\\nfor class_val in [0, 1]:\\n    idx = y_test == class_val\\n    plt.scatter(X_test_2D[idx, 0], X_test_2D[idx, 1],\\n                color=colors[class_val], label=f\\'Test Class {class_val}\\',\\n                edgecolor=\\'black\\', marker=\\'^\\', s=100)\\n\\nplt.title(\"Plot 1: Class Distribution (t-SNE on Raw Time Series)\")\\nplt.xlabel(\"Component 1\")\\nplt.ylabel(\"Component 2\")\\nplt.legend()\\nplt.grid(True)\\nplt.tight_layout()\\nplt.show()\\n'"
            ],
            "application/vnd.google.colaboratory.intrinsic+json": {
              "type": "string"
            }
          },
          "metadata": {},
          "execution_count": 62
        }
      ]
    },
    {
      "cell_type": "code",
      "source": [
        "#@title Plot 2\n",
        "'''\n",
        "X_all = np.concatenate((X_train, X_test), axis=0)\n",
        "y_all = np.concatenate((y_train, y_test), axis=0)\n",
        "X_flat = X_all.reshape(X_all.shape[0], -1)\n",
        "\n",
        "tsne = TSNE(n_components=2, perplexity=5, random_state=42)\n",
        "X_tsne = tsne.fit_transform(X_flat)\n",
        "\n",
        "n_train = len(X_train)\n",
        "X_train_2D = X_tsne[:n_train]\n",
        "X_test_2D = X_tsne[n_train:]\n",
        "\n",
        "plt.figure(figsize=(10, 7))\n",
        "colors = ['skyblue', 'salmon']\n",
        "labels = ['Class 0', 'Class 1']\n",
        "\n",
        "for class_val in [0, 1]:\n",
        "    idx = y_train == class_val\n",
        "    plt.scatter(X_train_2D[idx, 0], X_train_2D[idx, 1],\n",
        "                color=colors[class_val], label=f'Train Class {class_val}',\n",
        "                edgecolor='k', marker='o', s=80)\n",
        "\n",
        "for class_val in [0, 1]:\n",
        "    idx = y_test == class_val\n",
        "    plt.scatter(X_test_2D[idx, 0], X_test_2D[idx, 1],\n",
        "                color=colors[class_val], label=f'Test Class {class_val}',\n",
        "                edgecolor='black', marker='^', s=100)\n",
        "\n",
        "for i, nn_idx in enumerate(nn_indices):\n",
        "    test_point = X_test_2D[i]\n",
        "    train_point = X_train_2D[nn_idx]\n",
        "\n",
        "    plt.arrow(test_point[0], test_point[1],\n",
        "              train_point[0] - test_point[0],\n",
        "              train_point[1] - test_point[1],\n",
        "              color='gray', alpha=0.6, head_width=0.6, length_includes_head=True)\n",
        "\n",
        "plt.title(\"Plot 2: BOP + 1NN Matches in Raw Time Series t-SNE Space\")\n",
        "plt.xlabel(\"Component 1\")\n",
        "plt.ylabel(\"Component 2\")\n",
        "plt.legend()\n",
        "plt.grid(True)\n",
        "plt.tight_layout()\n",
        "plt.show()\n",
        "'''"
      ],
      "metadata": {
        "colab": {
          "base_uri": "https://localhost:8080/",
          "height": 109
        },
        "id": "6E9DhxIt6cKD",
        "outputId": "ac198660-4bf6-4ef8-e962-b2930ced80b9"
      },
      "execution_count": 63,
      "outputs": [
        {
          "output_type": "execute_result",
          "data": {
            "text/plain": [
              "'\\nX_all = np.concatenate((X_train, X_test), axis=0)\\ny_all = np.concatenate((y_train, y_test), axis=0)\\nX_flat = X_all.reshape(X_all.shape[0], -1)\\n\\ntsne = TSNE(n_components=2, perplexity=5, random_state=42)\\nX_tsne = tsne.fit_transform(X_flat)\\n\\nn_train = len(X_train)\\nX_train_2D = X_tsne[:n_train]\\nX_test_2D = X_tsne[n_train:]\\n\\nplt.figure(figsize=(10, 7))\\ncolors = [\\'skyblue\\', \\'salmon\\']\\nlabels = [\\'Class 0\\', \\'Class 1\\']\\n\\nfor class_val in [0, 1]:\\n    idx = y_train == class_val\\n    plt.scatter(X_train_2D[idx, 0], X_train_2D[idx, 1],\\n                color=colors[class_val], label=f\\'Train Class {class_val}\\',\\n                edgecolor=\\'k\\', marker=\\'o\\', s=80)\\n\\nfor class_val in [0, 1]:\\n    idx = y_test == class_val\\n    plt.scatter(X_test_2D[idx, 0], X_test_2D[idx, 1],\\n                color=colors[class_val], label=f\\'Test Class {class_val}\\',\\n                edgecolor=\\'black\\', marker=\\'^\\', s=100)\\n\\nfor i, nn_idx in enumerate(nn_indices):\\n    test_point = X_test_2D[i]\\n    train_point = X_train_2D[nn_idx]\\n\\n    plt.arrow(test_point[0], test_point[1],\\n              train_point[0] - test_point[0],\\n              train_point[1] - test_point[1],\\n              color=\\'gray\\', alpha=0.6, head_width=0.6, length_includes_head=True)\\n\\nplt.title(\"Plot 2: BOP + 1NN Matches in Raw Time Series t-SNE Space\")\\nplt.xlabel(\"Component 1\")\\nplt.ylabel(\"Component 2\")\\nplt.legend()\\nplt.grid(True)\\nplt.tight_layout()\\nplt.show()\\n'"
            ],
            "application/vnd.google.colaboratory.intrinsic+json": {
              "type": "string"
            }
          },
          "metadata": {},
          "execution_count": 63
        }
      ]
    },
    {
      "cell_type": "code",
      "source": [
        "#@title Plot 3\n",
        "'''\n",
        "X_bop_all = np.concatenate((X_train_bop, X_test_bop), axis=0)\n",
        "y_all = np.concatenate((y_train, y_test), axis=0)\n",
        "\n",
        "tsne = TSNE(n_components=2, perplexity=5, random_state=42)\n",
        "X_tsne_bop = tsne.fit_transform(X_bop_all)\n",
        "\n",
        "n_train = len(X_train_bop)\n",
        "X_train_bop_2D = X_tsne_bop[:n_train]\n",
        "X_test_bop_2D = X_tsne_bop[n_train:]\n",
        "\n",
        "plt.figure(figsize=(10, 7))\n",
        "colors = ['skyblue', 'salmon']\n",
        "labels = ['Class 0', 'Class 1']\n",
        "\n",
        "for class_val in [0, 1]:\n",
        "    idx = y_train == class_val\n",
        "    plt.scatter(X_train_bop_2D[idx, 0], X_train_bop_2D[idx, 1],\n",
        "                color=colors[class_val], label=f'Train Class {class_val}',\n",
        "                edgecolor='k', marker='o', s=80)\n",
        "\n",
        "for class_val in [0, 1]:\n",
        "    idx = y_test == class_val\n",
        "    plt.scatter(X_test_bop_2D[idx, 0], X_test_bop_2D[idx, 1],\n",
        "                color=colors[class_val], label=f'Test Class {class_val}',\n",
        "                edgecolor='black', marker='^', s=100)\n",
        "\n",
        "for i, nn_idx in enumerate(nn_indices):\n",
        "    test_point = X_test_bop_2D[i]\n",
        "    train_point = X_train_bop_2D[nn_idx]\n",
        "\n",
        "    plt.arrow(test_point[0], test_point[1],\n",
        "              train_point[0] - test_point[0],\n",
        "              train_point[1] - test_point[1],\n",
        "              color='gray', alpha=0.6, head_width=0.6, length_includes_head=True)\n",
        "\n",
        "plt.title(\"Plot 3: BOP Space t-SNE with 1NN Connections\")\n",
        "plt.xlabel(\"Component 1\")\n",
        "plt.ylabel(\"Component 2\")\n",
        "plt.legend()\n",
        "plt.grid(True)\n",
        "plt.tight_layout()\n",
        "plt.show()\n",
        "'''"
      ],
      "metadata": {
        "colab": {
          "base_uri": "https://localhost:8080/",
          "height": 109
        },
        "id": "GbYPCDHT6fAc",
        "outputId": "7301202f-08eb-4f31-c79d-5f2349648f6f"
      },
      "execution_count": 64,
      "outputs": [
        {
          "output_type": "execute_result",
          "data": {
            "text/plain": [
              "'\\nX_bop_all = np.concatenate((X_train_bop, X_test_bop), axis=0)\\ny_all = np.concatenate((y_train, y_test), axis=0)\\n\\ntsne = TSNE(n_components=2, perplexity=5, random_state=42)\\nX_tsne_bop = tsne.fit_transform(X_bop_all)\\n\\nn_train = len(X_train_bop)\\nX_train_bop_2D = X_tsne_bop[:n_train]\\nX_test_bop_2D = X_tsne_bop[n_train:]\\n\\nplt.figure(figsize=(10, 7))\\ncolors = [\\'skyblue\\', \\'salmon\\']\\nlabels = [\\'Class 0\\', \\'Class 1\\']\\n\\nfor class_val in [0, 1]:\\n    idx = y_train == class_val\\n    plt.scatter(X_train_bop_2D[idx, 0], X_train_bop_2D[idx, 1],\\n                color=colors[class_val], label=f\\'Train Class {class_val}\\',\\n                edgecolor=\\'k\\', marker=\\'o\\', s=80)\\n\\nfor class_val in [0, 1]:\\n    idx = y_test == class_val\\n    plt.scatter(X_test_bop_2D[idx, 0], X_test_bop_2D[idx, 1],\\n                color=colors[class_val], label=f\\'Test Class {class_val}\\',\\n                edgecolor=\\'black\\', marker=\\'^\\', s=100)\\n\\nfor i, nn_idx in enumerate(nn_indices):\\n    test_point = X_test_bop_2D[i]\\n    train_point = X_train_bop_2D[nn_idx]\\n\\n    plt.arrow(test_point[0], test_point[1],\\n              train_point[0] - test_point[0],\\n              train_point[1] - test_point[1],\\n              color=\\'gray\\', alpha=0.6, head_width=0.6, length_includes_head=True)\\n\\nplt.title(\"Plot 3: BOP Space t-SNE with 1NN Connections\")\\nplt.xlabel(\"Component 1\")\\nplt.ylabel(\"Component 2\")\\nplt.legend()\\nplt.grid(True)\\nplt.tight_layout()\\nplt.show()\\n'"
            ],
            "application/vnd.google.colaboratory.intrinsic+json": {
              "type": "string"
            }
          },
          "metadata": {},
          "execution_count": 64
        }
      ]
    }
  ]
}